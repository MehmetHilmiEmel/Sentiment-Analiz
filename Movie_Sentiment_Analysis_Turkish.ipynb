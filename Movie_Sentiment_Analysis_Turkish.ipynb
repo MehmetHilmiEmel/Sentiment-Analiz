{
  "nbformat": 4,
  "nbformat_minor": 0,
  "metadata": {
    "colab": {
      "provenance": []
    },
    "kernelspec": {
      "name": "python3",
      "display_name": "Python 3"
    },
    "language_info": {
      "name": "python"
    }
  },
  "cells": [
    {
      "cell_type": "code",
      "execution_count": 1,
      "metadata": {
        "colab": {
          "base_uri": "https://localhost:8080/"
        },
        "id": "6wgh5rOZLCXr",
        "outputId": "ca8a4259-3812-4a2d-f883-b6f47efa1416"
      },
      "outputs": [
        {
          "output_type": "stream",
          "name": "stdout",
          "text": [
            "Mounted at /content/drive\n"
          ]
        }
      ],
      "source": [
        "from google.colab import drive\n",
        "drive.mount('/content/drive')"
      ]
    },
    {
      "cell_type": "code",
      "source": [
        "import numpy as np\n",
        "import re\n",
        "import nltk\n",
        "import pandas as pd\n",
        "import nltk as nlp\n",
        "nltk.download('stopwords')\n",
        "import pickle\n",
        "from nltk.corpus import stopwords\n",
        "stopWords = set(stopwords.words('turkish'))\n",
        "nltk.download('punkt')\n",
        "nltk.download('wordnet')\n",
        "nltk.download('omw-1.4')"
      ],
      "metadata": {
        "colab": {
          "base_uri": "https://localhost:8080/"
        },
        "id": "iQNz0pfhLMsJ",
        "outputId": "38d039a5-cf54-4bdc-d4c5-5b998b97501c"
      },
      "execution_count": 2,
      "outputs": [
        {
          "output_type": "stream",
          "name": "stderr",
          "text": [
            "[nltk_data] Downloading package stopwords to /root/nltk_data...\n",
            "[nltk_data]   Unzipping corpora/stopwords.zip.\n",
            "[nltk_data] Downloading package punkt to /root/nltk_data...\n",
            "[nltk_data]   Unzipping tokenizers/punkt.zip.\n",
            "[nltk_data] Downloading package wordnet to /root/nltk_data...\n",
            "[nltk_data] Downloading package omw-1.4 to /root/nltk_data...\n"
          ]
        },
        {
          "output_type": "execute_result",
          "data": {
            "text/plain": [
              "True"
            ]
          },
          "metadata": {},
          "execution_count": 2
        }
      ]
    },
    {
      "cell_type": "code",
      "source": [
        "df_train = pd.read_csv('/content/drive/MyDrive/Sentiment Analysis Turkish/train 2.csv', encoding= 'unicode_escape')\n",
        "df_train.head()"
      ],
      "metadata": {
        "colab": {
          "base_uri": "https://localhost:8080/",
          "height": 206
        },
        "id": "GHk3yB6hLqRm",
        "outputId": "f47512c8-db43-436d-db5e-4339cc9e81fa"
      },
      "execution_count": 3,
      "outputs": [
        {
          "output_type": "execute_result",
          "data": {
            "text/plain": [
              "   Unnamed: 0                                            comment  Label\n",
              "0           0  biri bana bu filmde benim anlamadigim bisey ol...      0\n",
              "1           1  ya çocuklar ilk filmin sonunda büyüdüler ya bu...      1\n",
              "2           2  film biraz daha uzun sürse harbi kiyameti göre...      0\n",
              "3           3  pek orjinal bi cinayet yok ama orjinal oyuncul...      0\n",
              "4           4  film tek kelimeyle muhtesemdi heleki sonundaki...      1"
            ],
            "text/html": [
              "\n",
              "  <div id=\"df-137bd5c6-d664-4885-bd68-f3fc063a5614\">\n",
              "    <div class=\"colab-df-container\">\n",
              "      <div>\n",
              "<style scoped>\n",
              "    .dataframe tbody tr th:only-of-type {\n",
              "        vertical-align: middle;\n",
              "    }\n",
              "\n",
              "    .dataframe tbody tr th {\n",
              "        vertical-align: top;\n",
              "    }\n",
              "\n",
              "    .dataframe thead th {\n",
              "        text-align: right;\n",
              "    }\n",
              "</style>\n",
              "<table border=\"1\" class=\"dataframe\">\n",
              "  <thead>\n",
              "    <tr style=\"text-align: right;\">\n",
              "      <th></th>\n",
              "      <th>Unnamed: 0</th>\n",
              "      <th>comment</th>\n",
              "      <th>Label</th>\n",
              "    </tr>\n",
              "  </thead>\n",
              "  <tbody>\n",
              "    <tr>\n",
              "      <th>0</th>\n",
              "      <td>0</td>\n",
              "      <td>biri bana bu filmde benim anlamadigim bisey ol...</td>\n",
              "      <td>0</td>\n",
              "    </tr>\n",
              "    <tr>\n",
              "      <th>1</th>\n",
              "      <td>1</td>\n",
              "      <td>ya çocuklar ilk filmin sonunda büyüdüler ya bu...</td>\n",
              "      <td>1</td>\n",
              "    </tr>\n",
              "    <tr>\n",
              "      <th>2</th>\n",
              "      <td>2</td>\n",
              "      <td>film biraz daha uzun sürse harbi kiyameti göre...</td>\n",
              "      <td>0</td>\n",
              "    </tr>\n",
              "    <tr>\n",
              "      <th>3</th>\n",
              "      <td>3</td>\n",
              "      <td>pek orjinal bi cinayet yok ama orjinal oyuncul...</td>\n",
              "      <td>0</td>\n",
              "    </tr>\n",
              "    <tr>\n",
              "      <th>4</th>\n",
              "      <td>4</td>\n",
              "      <td>film tek kelimeyle muhtesemdi heleki sonundaki...</td>\n",
              "      <td>1</td>\n",
              "    </tr>\n",
              "  </tbody>\n",
              "</table>\n",
              "</div>\n",
              "      <button class=\"colab-df-convert\" onclick=\"convertToInteractive('df-137bd5c6-d664-4885-bd68-f3fc063a5614')\"\n",
              "              title=\"Convert this dataframe to an interactive table.\"\n",
              "              style=\"display:none;\">\n",
              "        \n",
              "  <svg xmlns=\"http://www.w3.org/2000/svg\" height=\"24px\"viewBox=\"0 0 24 24\"\n",
              "       width=\"24px\">\n",
              "    <path d=\"M0 0h24v24H0V0z\" fill=\"none\"/>\n",
              "    <path d=\"M18.56 5.44l.94 2.06.94-2.06 2.06-.94-2.06-.94-.94-2.06-.94 2.06-2.06.94zm-11 1L8.5 8.5l.94-2.06 2.06-.94-2.06-.94L8.5 2.5l-.94 2.06-2.06.94zm10 10l.94 2.06.94-2.06 2.06-.94-2.06-.94-.94-2.06-.94 2.06-2.06.94z\"/><path d=\"M17.41 7.96l-1.37-1.37c-.4-.4-.92-.59-1.43-.59-.52 0-1.04.2-1.43.59L10.3 9.45l-7.72 7.72c-.78.78-.78 2.05 0 2.83L4 21.41c.39.39.9.59 1.41.59.51 0 1.02-.2 1.41-.59l7.78-7.78 2.81-2.81c.8-.78.8-2.07 0-2.86zM5.41 20L4 18.59l7.72-7.72 1.47 1.35L5.41 20z\"/>\n",
              "  </svg>\n",
              "      </button>\n",
              "      \n",
              "  <style>\n",
              "    .colab-df-container {\n",
              "      display:flex;\n",
              "      flex-wrap:wrap;\n",
              "      gap: 12px;\n",
              "    }\n",
              "\n",
              "    .colab-df-convert {\n",
              "      background-color: #E8F0FE;\n",
              "      border: none;\n",
              "      border-radius: 50%;\n",
              "      cursor: pointer;\n",
              "      display: none;\n",
              "      fill: #1967D2;\n",
              "      height: 32px;\n",
              "      padding: 0 0 0 0;\n",
              "      width: 32px;\n",
              "    }\n",
              "\n",
              "    .colab-df-convert:hover {\n",
              "      background-color: #E2EBFA;\n",
              "      box-shadow: 0px 1px 2px rgba(60, 64, 67, 0.3), 0px 1px 3px 1px rgba(60, 64, 67, 0.15);\n",
              "      fill: #174EA6;\n",
              "    }\n",
              "\n",
              "    [theme=dark] .colab-df-convert {\n",
              "      background-color: #3B4455;\n",
              "      fill: #D2E3FC;\n",
              "    }\n",
              "\n",
              "    [theme=dark] .colab-df-convert:hover {\n",
              "      background-color: #434B5C;\n",
              "      box-shadow: 0px 1px 3px 1px rgba(0, 0, 0, 0.15);\n",
              "      filter: drop-shadow(0px 1px 2px rgba(0, 0, 0, 0.3));\n",
              "      fill: #FFFFFF;\n",
              "    }\n",
              "  </style>\n",
              "\n",
              "      <script>\n",
              "        const buttonEl =\n",
              "          document.querySelector('#df-137bd5c6-d664-4885-bd68-f3fc063a5614 button.colab-df-convert');\n",
              "        buttonEl.style.display =\n",
              "          google.colab.kernel.accessAllowed ? 'block' : 'none';\n",
              "\n",
              "        async function convertToInteractive(key) {\n",
              "          const element = document.querySelector('#df-137bd5c6-d664-4885-bd68-f3fc063a5614');\n",
              "          const dataTable =\n",
              "            await google.colab.kernel.invokeFunction('convertToInteractive',\n",
              "                                                     [key], {});\n",
              "          if (!dataTable) return;\n",
              "\n",
              "          const docLinkHtml = 'Like what you see? Visit the ' +\n",
              "            '<a target=\"_blank\" href=https://colab.research.google.com/notebooks/data_table.ipynb>data table notebook</a>'\n",
              "            + ' to learn more about interactive tables.';\n",
              "          element.innerHTML = '';\n",
              "          dataTable['output_type'] = 'display_data';\n",
              "          await google.colab.output.renderOutput(dataTable, element);\n",
              "          const docLink = document.createElement('div');\n",
              "          docLink.innerHTML = docLinkHtml;\n",
              "          element.appendChild(docLink);\n",
              "        }\n",
              "      </script>\n",
              "    </div>\n",
              "  </div>\n",
              "  "
            ]
          },
          "metadata": {},
          "execution_count": 3
        }
      ]
    },
    {
      "cell_type": "code",
      "source": [
        "df_test = pd.read_csv('/content/drive/MyDrive/Sentiment Analysis Turkish/test.csv', encoding= 'unicode_escape')\n",
        "df_test.head()"
      ],
      "metadata": {
        "colab": {
          "base_uri": "https://localhost:8080/",
          "height": 206
        },
        "id": "VErqDaVVLhKg",
        "outputId": "7e7a0d2e-1a34-416d-dd7c-ce58d1a7acb0"
      },
      "execution_count": 4,
      "outputs": [
        {
          "output_type": "execute_result",
          "data": {
            "text/plain": [
              "   Unnamed: 0                                            comment  Label\n",
              "0           0  arkadaslar film bence cok güzel su anda gidile...      1\n",
              "1           1  mükemmel bir film ve sonu enfes. mutlaka izley...      1\n",
              "2           2  epey bi uzak durun diyorum..bu ne ya iyice cil...      0\n",
              "3           3  sürükleyici bir aksiyon, özellikle sonu çok sa...      1\n",
              "4           4  hayatimda izledigim en berbat filmdi gerçekten...      0"
            ],
            "text/html": [
              "\n",
              "  <div id=\"df-64339c2c-64cf-434f-ad30-f0409b23318e\">\n",
              "    <div class=\"colab-df-container\">\n",
              "      <div>\n",
              "<style scoped>\n",
              "    .dataframe tbody tr th:only-of-type {\n",
              "        vertical-align: middle;\n",
              "    }\n",
              "\n",
              "    .dataframe tbody tr th {\n",
              "        vertical-align: top;\n",
              "    }\n",
              "\n",
              "    .dataframe thead th {\n",
              "        text-align: right;\n",
              "    }\n",
              "</style>\n",
              "<table border=\"1\" class=\"dataframe\">\n",
              "  <thead>\n",
              "    <tr style=\"text-align: right;\">\n",
              "      <th></th>\n",
              "      <th>Unnamed: 0</th>\n",
              "      <th>comment</th>\n",
              "      <th>Label</th>\n",
              "    </tr>\n",
              "  </thead>\n",
              "  <tbody>\n",
              "    <tr>\n",
              "      <th>0</th>\n",
              "      <td>0</td>\n",
              "      <td>arkadaslar film bence cok güzel su anda gidile...</td>\n",
              "      <td>1</td>\n",
              "    </tr>\n",
              "    <tr>\n",
              "      <th>1</th>\n",
              "      <td>1</td>\n",
              "      <td>mükemmel bir film ve sonu enfes. mutlaka izley...</td>\n",
              "      <td>1</td>\n",
              "    </tr>\n",
              "    <tr>\n",
              "      <th>2</th>\n",
              "      <td>2</td>\n",
              "      <td>epey bi uzak durun diyorum..bu ne ya iyice cil...</td>\n",
              "      <td>0</td>\n",
              "    </tr>\n",
              "    <tr>\n",
              "      <th>3</th>\n",
              "      <td>3</td>\n",
              "      <td>sürükleyici bir aksiyon, özellikle sonu çok sa...</td>\n",
              "      <td>1</td>\n",
              "    </tr>\n",
              "    <tr>\n",
              "      <th>4</th>\n",
              "      <td>4</td>\n",
              "      <td>hayatimda izledigim en berbat filmdi gerçekten...</td>\n",
              "      <td>0</td>\n",
              "    </tr>\n",
              "  </tbody>\n",
              "</table>\n",
              "</div>\n",
              "      <button class=\"colab-df-convert\" onclick=\"convertToInteractive('df-64339c2c-64cf-434f-ad30-f0409b23318e')\"\n",
              "              title=\"Convert this dataframe to an interactive table.\"\n",
              "              style=\"display:none;\">\n",
              "        \n",
              "  <svg xmlns=\"http://www.w3.org/2000/svg\" height=\"24px\"viewBox=\"0 0 24 24\"\n",
              "       width=\"24px\">\n",
              "    <path d=\"M0 0h24v24H0V0z\" fill=\"none\"/>\n",
              "    <path d=\"M18.56 5.44l.94 2.06.94-2.06 2.06-.94-2.06-.94-.94-2.06-.94 2.06-2.06.94zm-11 1L8.5 8.5l.94-2.06 2.06-.94-2.06-.94L8.5 2.5l-.94 2.06-2.06.94zm10 10l.94 2.06.94-2.06 2.06-.94-2.06-.94-.94-2.06-.94 2.06-2.06.94z\"/><path d=\"M17.41 7.96l-1.37-1.37c-.4-.4-.92-.59-1.43-.59-.52 0-1.04.2-1.43.59L10.3 9.45l-7.72 7.72c-.78.78-.78 2.05 0 2.83L4 21.41c.39.39.9.59 1.41.59.51 0 1.02-.2 1.41-.59l7.78-7.78 2.81-2.81c.8-.78.8-2.07 0-2.86zM5.41 20L4 18.59l7.72-7.72 1.47 1.35L5.41 20z\"/>\n",
              "  </svg>\n",
              "      </button>\n",
              "      \n",
              "  <style>\n",
              "    .colab-df-container {\n",
              "      display:flex;\n",
              "      flex-wrap:wrap;\n",
              "      gap: 12px;\n",
              "    }\n",
              "\n",
              "    .colab-df-convert {\n",
              "      background-color: #E8F0FE;\n",
              "      border: none;\n",
              "      border-radius: 50%;\n",
              "      cursor: pointer;\n",
              "      display: none;\n",
              "      fill: #1967D2;\n",
              "      height: 32px;\n",
              "      padding: 0 0 0 0;\n",
              "      width: 32px;\n",
              "    }\n",
              "\n",
              "    .colab-df-convert:hover {\n",
              "      background-color: #E2EBFA;\n",
              "      box-shadow: 0px 1px 2px rgba(60, 64, 67, 0.3), 0px 1px 3px 1px rgba(60, 64, 67, 0.15);\n",
              "      fill: #174EA6;\n",
              "    }\n",
              "\n",
              "    [theme=dark] .colab-df-convert {\n",
              "      background-color: #3B4455;\n",
              "      fill: #D2E3FC;\n",
              "    }\n",
              "\n",
              "    [theme=dark] .colab-df-convert:hover {\n",
              "      background-color: #434B5C;\n",
              "      box-shadow: 0px 1px 3px 1px rgba(0, 0, 0, 0.15);\n",
              "      filter: drop-shadow(0px 1px 2px rgba(0, 0, 0, 0.3));\n",
              "      fill: #FFFFFF;\n",
              "    }\n",
              "  </style>\n",
              "\n",
              "      <script>\n",
              "        const buttonEl =\n",
              "          document.querySelector('#df-64339c2c-64cf-434f-ad30-f0409b23318e button.colab-df-convert');\n",
              "        buttonEl.style.display =\n",
              "          google.colab.kernel.accessAllowed ? 'block' : 'none';\n",
              "\n",
              "        async function convertToInteractive(key) {\n",
              "          const element = document.querySelector('#df-64339c2c-64cf-434f-ad30-f0409b23318e');\n",
              "          const dataTable =\n",
              "            await google.colab.kernel.invokeFunction('convertToInteractive',\n",
              "                                                     [key], {});\n",
              "          if (!dataTable) return;\n",
              "\n",
              "          const docLinkHtml = 'Like what you see? Visit the ' +\n",
              "            '<a target=\"_blank\" href=https://colab.research.google.com/notebooks/data_table.ipynb>data table notebook</a>'\n",
              "            + ' to learn more about interactive tables.';\n",
              "          element.innerHTML = '';\n",
              "          dataTable['output_type'] = 'display_data';\n",
              "          await google.colab.output.renderOutput(dataTable, element);\n",
              "          const docLink = document.createElement('div');\n",
              "          docLink.innerHTML = docLinkHtml;\n",
              "          element.appendChild(docLink);\n",
              "        }\n",
              "      </script>\n",
              "    </div>\n",
              "  </div>\n",
              "  "
            ]
          },
          "metadata": {},
          "execution_count": 4
        }
      ]
    },
    {
      "cell_type": "code",
      "source": [
        "def pre_processing(text):\n",
        "    text = text.lower()  #Büyük harften -Küçük harfe çevirme\n",
        "    text = re.sub(\"[^abcçdefgğhıijklmnoöprsştuüvyz]\",\" \",text)\n",
        "    text=nltk.word_tokenize(text) # splits the words that are in the sentence from each other.\n",
        "    text =[word for word in text if not word in set(stopwords.words(\"turkish\"))]\n",
        "    lemma=nlp.WordNetLemmatizer()\n",
        "    text=[lemma.lemmatize(word) for word in text] # this code finds the root of the word for a word in the sentence and change them to their root form.\n",
        "    text=\" \".join(text)\n",
        "    return text"
      ],
      "metadata": {
        "id": "clGGAFPVNWKz"
      },
      "execution_count": 5,
      "outputs": []
    },
    {
      "cell_type": "code",
      "source": [
        "df_train[\"clean_text\"]=df_train[\"comment\"].apply(lambda x: pre_processing(x))\n",
        "df_test[\"clean_text\"]=df_test[\"comment\"].apply(lambda x: pre_processing(x))"
      ],
      "metadata": {
        "id": "ISUzlAEJOKZl"
      },
      "execution_count": 6,
      "outputs": []
    },
    {
      "cell_type": "code",
      "source": [
        "df_train.head()"
      ],
      "metadata": {
        "colab": {
          "base_uri": "https://localhost:8080/",
          "height": 206
        },
        "id": "rkEnVjR9UR8X",
        "outputId": "3d9e7934-05a9-4101-8610-c633f15f2ccb"
      },
      "execution_count": 7,
      "outputs": [
        {
          "output_type": "execute_result",
          "data": {
            "text/plain": [
              "   Unnamed: 0                                            comment  Label  \\\n",
              "0           0  biri bana bu filmde benim anlamadigim bisey ol...      0   \n",
              "1           1  ya çocuklar ilk filmin sonunda büyüdüler ya bu...      1   \n",
              "2           2  film biraz daha uzun sürse harbi kiyameti göre...      0   \n",
              "3           3  pek orjinal bi cinayet yok ama orjinal oyuncul...      0   \n",
              "4           4  film tek kelimeyle muhtesemdi heleki sonundaki...      1   \n",
              "\n",
              "                                          clean_text  \n",
              "0  bana filmde benim anlamadigim bisey oldugunu s...  \n",
              "1  çocuklar ilk filmin sonunda büyüdüler filmde b...  \n",
              "2    film biraz uzun sürse harbi kiyameti görecektik  \n",
              "3  pek orjinal bi cinayet yok orjinal oyuncular v...  \n",
              "4  film tek kelimeyle muhtesemdi heleki sonundaki...  "
            ],
            "text/html": [
              "\n",
              "  <div id=\"df-da4e52cd-e1a7-48f9-8d3a-69b7d50c31a6\">\n",
              "    <div class=\"colab-df-container\">\n",
              "      <div>\n",
              "<style scoped>\n",
              "    .dataframe tbody tr th:only-of-type {\n",
              "        vertical-align: middle;\n",
              "    }\n",
              "\n",
              "    .dataframe tbody tr th {\n",
              "        vertical-align: top;\n",
              "    }\n",
              "\n",
              "    .dataframe thead th {\n",
              "        text-align: right;\n",
              "    }\n",
              "</style>\n",
              "<table border=\"1\" class=\"dataframe\">\n",
              "  <thead>\n",
              "    <tr style=\"text-align: right;\">\n",
              "      <th></th>\n",
              "      <th>Unnamed: 0</th>\n",
              "      <th>comment</th>\n",
              "      <th>Label</th>\n",
              "      <th>clean_text</th>\n",
              "    </tr>\n",
              "  </thead>\n",
              "  <tbody>\n",
              "    <tr>\n",
              "      <th>0</th>\n",
              "      <td>0</td>\n",
              "      <td>biri bana bu filmde benim anlamadigim bisey ol...</td>\n",
              "      <td>0</td>\n",
              "      <td>bana filmde benim anlamadigim bisey oldugunu s...</td>\n",
              "    </tr>\n",
              "    <tr>\n",
              "      <th>1</th>\n",
              "      <td>1</td>\n",
              "      <td>ya çocuklar ilk filmin sonunda büyüdüler ya bu...</td>\n",
              "      <td>1</td>\n",
              "      <td>çocuklar ilk filmin sonunda büyüdüler filmde b...</td>\n",
              "    </tr>\n",
              "    <tr>\n",
              "      <th>2</th>\n",
              "      <td>2</td>\n",
              "      <td>film biraz daha uzun sürse harbi kiyameti göre...</td>\n",
              "      <td>0</td>\n",
              "      <td>film biraz uzun sürse harbi kiyameti görecektik</td>\n",
              "    </tr>\n",
              "    <tr>\n",
              "      <th>3</th>\n",
              "      <td>3</td>\n",
              "      <td>pek orjinal bi cinayet yok ama orjinal oyuncul...</td>\n",
              "      <td>0</td>\n",
              "      <td>pek orjinal bi cinayet yok orjinal oyuncular v...</td>\n",
              "    </tr>\n",
              "    <tr>\n",
              "      <th>4</th>\n",
              "      <td>4</td>\n",
              "      <td>film tek kelimeyle muhtesemdi heleki sonundaki...</td>\n",
              "      <td>1</td>\n",
              "      <td>film tek kelimeyle muhtesemdi heleki sonundaki...</td>\n",
              "    </tr>\n",
              "  </tbody>\n",
              "</table>\n",
              "</div>\n",
              "      <button class=\"colab-df-convert\" onclick=\"convertToInteractive('df-da4e52cd-e1a7-48f9-8d3a-69b7d50c31a6')\"\n",
              "              title=\"Convert this dataframe to an interactive table.\"\n",
              "              style=\"display:none;\">\n",
              "        \n",
              "  <svg xmlns=\"http://www.w3.org/2000/svg\" height=\"24px\"viewBox=\"0 0 24 24\"\n",
              "       width=\"24px\">\n",
              "    <path d=\"M0 0h24v24H0V0z\" fill=\"none\"/>\n",
              "    <path d=\"M18.56 5.44l.94 2.06.94-2.06 2.06-.94-2.06-.94-.94-2.06-.94 2.06-2.06.94zm-11 1L8.5 8.5l.94-2.06 2.06-.94-2.06-.94L8.5 2.5l-.94 2.06-2.06.94zm10 10l.94 2.06.94-2.06 2.06-.94-2.06-.94-.94-2.06-.94 2.06-2.06.94z\"/><path d=\"M17.41 7.96l-1.37-1.37c-.4-.4-.92-.59-1.43-.59-.52 0-1.04.2-1.43.59L10.3 9.45l-7.72 7.72c-.78.78-.78 2.05 0 2.83L4 21.41c.39.39.9.59 1.41.59.51 0 1.02-.2 1.41-.59l7.78-7.78 2.81-2.81c.8-.78.8-2.07 0-2.86zM5.41 20L4 18.59l7.72-7.72 1.47 1.35L5.41 20z\"/>\n",
              "  </svg>\n",
              "      </button>\n",
              "      \n",
              "  <style>\n",
              "    .colab-df-container {\n",
              "      display:flex;\n",
              "      flex-wrap:wrap;\n",
              "      gap: 12px;\n",
              "    }\n",
              "\n",
              "    .colab-df-convert {\n",
              "      background-color: #E8F0FE;\n",
              "      border: none;\n",
              "      border-radius: 50%;\n",
              "      cursor: pointer;\n",
              "      display: none;\n",
              "      fill: #1967D2;\n",
              "      height: 32px;\n",
              "      padding: 0 0 0 0;\n",
              "      width: 32px;\n",
              "    }\n",
              "\n",
              "    .colab-df-convert:hover {\n",
              "      background-color: #E2EBFA;\n",
              "      box-shadow: 0px 1px 2px rgba(60, 64, 67, 0.3), 0px 1px 3px 1px rgba(60, 64, 67, 0.15);\n",
              "      fill: #174EA6;\n",
              "    }\n",
              "\n",
              "    [theme=dark] .colab-df-convert {\n",
              "      background-color: #3B4455;\n",
              "      fill: #D2E3FC;\n",
              "    }\n",
              "\n",
              "    [theme=dark] .colab-df-convert:hover {\n",
              "      background-color: #434B5C;\n",
              "      box-shadow: 0px 1px 3px 1px rgba(0, 0, 0, 0.15);\n",
              "      filter: drop-shadow(0px 1px 2px rgba(0, 0, 0, 0.3));\n",
              "      fill: #FFFFFF;\n",
              "    }\n",
              "  </style>\n",
              "\n",
              "      <script>\n",
              "        const buttonEl =\n",
              "          document.querySelector('#df-da4e52cd-e1a7-48f9-8d3a-69b7d50c31a6 button.colab-df-convert');\n",
              "        buttonEl.style.display =\n",
              "          google.colab.kernel.accessAllowed ? 'block' : 'none';\n",
              "\n",
              "        async function convertToInteractive(key) {\n",
              "          const element = document.querySelector('#df-da4e52cd-e1a7-48f9-8d3a-69b7d50c31a6');\n",
              "          const dataTable =\n",
              "            await google.colab.kernel.invokeFunction('convertToInteractive',\n",
              "                                                     [key], {});\n",
              "          if (!dataTable) return;\n",
              "\n",
              "          const docLinkHtml = 'Like what you see? Visit the ' +\n",
              "            '<a target=\"_blank\" href=https://colab.research.google.com/notebooks/data_table.ipynb>data table notebook</a>'\n",
              "            + ' to learn more about interactive tables.';\n",
              "          element.innerHTML = '';\n",
              "          dataTable['output_type'] = 'display_data';\n",
              "          await google.colab.output.renderOutput(dataTable, element);\n",
              "          const docLink = document.createElement('div');\n",
              "          docLink.innerHTML = docLinkHtml;\n",
              "          element.appendChild(docLink);\n",
              "        }\n",
              "      </script>\n",
              "    </div>\n",
              "  </div>\n",
              "  "
            ]
          },
          "metadata": {},
          "execution_count": 7
        }
      ]
    },
    {
      "cell_type": "code",
      "source": [
        "X_train=df_train[\"clean_text\"]\n",
        "X_test=df_test[\"clean_text\"]\n",
        "y_train=df_train[\"Label\"]\n",
        "y_test=df_test[\"Label\"]\n",
        "\n",
        "print(\"x_train\",X_train.shape)\n",
        "print(\"x_test\",X_test.shape)\n",
        "print(\"y_train\",y_train.shape)\n",
        "print(\"y_test\",y_test.shape)"
      ],
      "metadata": {
        "colab": {
          "base_uri": "https://localhost:8080/"
        },
        "id": "GrsL3svoPruE",
        "outputId": "51fe8146-14c6-4c8b-9fe4-bb01a983dcdc"
      },
      "execution_count": 8,
      "outputs": [
        {
          "output_type": "stream",
          "name": "stdout",
          "text": [
            "x_train (7996,)\n",
            "x_test (2666,)\n",
            "y_train (7996,)\n",
            "y_test (2666,)\n"
          ]
        }
      ]
    },
    {
      "cell_type": "code",
      "source": [
        "from sklearn.linear_model import LogisticRegression\n",
        "from sklearn.pipeline import Pipeline\n",
        "from sklearn.feature_extraction.text import TfidfVectorizer\n",
        "LogisticRegression = Pipeline([('tfidf', TfidfVectorizer()),('clf', LogisticRegression())])\n",
        "\n",
        "LogisticRegression .fit(X_train, y_train)\n"
      ],
      "metadata": {
        "colab": {
          "base_uri": "https://localhost:8080/"
        },
        "id": "Gu5cSV2RQF8W",
        "outputId": "b17d6707-50a3-4560-8f2e-7f38569396a9"
      },
      "execution_count": 9,
      "outputs": [
        {
          "output_type": "execute_result",
          "data": {
            "text/plain": [
              "Pipeline(steps=[('tfidf', TfidfVectorizer()), ('clf', LogisticRegression())])"
            ]
          },
          "metadata": {},
          "execution_count": 9
        }
      ]
    },
    {
      "cell_type": "code",
      "source": [
        "def plot_confusion_matrix(Y_test, Y_preds):\n",
        "    conf_mat = confusion_matrix(Y_test, Y_preds)\n",
        "    #print(conf_mat)\n",
        "    fig = plt.figure(figsize=(6,6))\n",
        "    plt.matshow(conf_mat, cmap=plt.cm.Blues, fignum=1)\n",
        "    plt.yticks(range(2), range(2))\n",
        "    plt.xticks(range(2), range(2))\n",
        "    plt.colorbar();\n",
        "    for i in range(2):\n",
        "        for j in range(2):\n",
        "            plt.text(i-0.2,j+0.1, str(conf_mat[j, i]), color='tab:red')"
      ],
      "metadata": {
        "id": "TagTviFKVkJn"
      },
      "execution_count": 10,
      "outputs": []
    },
    {
      "cell_type": "code",
      "source": [
        "from sklearn.metrics import confusion_matrix,accuracy_score,classification_report,precision_score\n",
        "import matplotlib.pyplot as plt\n",
        "import seaborn as sns \n",
        "from sklearn.model_selection import cross_val_score\n",
        "from sklearn.metrics import f1_score\n",
        "from sklearn.metrics import recall_score\n",
        "from sklearn.metrics import precision_score\n",
        "from sklearn.metrics import classification_report\n",
        "\n",
        "cv_scores = cross_val_score(LogisticRegression, X_train, y_train, cv=10)\n",
        "print(\"CV average score: %.2f\" % cv_scores.mean())\n",
        "\n",
        "result = LogisticRegression.predict(X_test)\n",
        "cr = classification_report(y_test, result)\n",
        "print(cr) \n",
        "\n",
        "\n",
        "print('Train Accuracy : %.3f'%LogisticRegression.score(X_train, y_train))\n",
        "print('Test Accuracy : %.3f'%LogisticRegression.score(X_test, y_test))\n",
        "\n",
        "\n",
        "\n",
        "y_pred = LogisticRegression.predict(X_test)\n",
        "print(precision_score(y_test, y_pred ,average='macro') , \": is the precision score\")\n",
        "print(recall_score(y_test, y_pred,average='macro'), \": is the recall score\")\n",
        "print(f1_score(y_test, y_pred ,average='macro'), \": is the f1 score\")\n",
        "\n",
        "plot_confusion_matrix(y_test, LogisticRegression.predict(X_test))"
      ],
      "metadata": {
        "id": "UzwP7ZwHQJrf",
        "colab": {
          "base_uri": "https://localhost:8080/",
          "height": 634
        },
        "outputId": "70071866-8d65-4f20-9643-50d6067457af"
      },
      "execution_count": 11,
      "outputs": [
        {
          "output_type": "stream",
          "name": "stdout",
          "text": [
            "CV average score: 0.89\n",
            "              precision    recall  f1-score   support\n",
            "\n",
            "           0       0.88      0.90      0.89      1333\n",
            "           1       0.90      0.88      0.89      1333\n",
            "\n",
            "    accuracy                           0.89      2666\n",
            "   macro avg       0.89      0.89      0.89      2666\n",
            "weighted avg       0.89      0.89      0.89      2666\n",
            "\n",
            "Train Accuracy : 0.952\n",
            "Test Accuracy : 0.890\n",
            "0.8902347849193588 : is the precision score\n",
            "0.8900975243810954 : is the recall score\n",
            "0.8900878593024191 : is the f1 score\n"
          ]
        },
        {
          "output_type": "display_data",
          "data": {
            "text/plain": [
              "<Figure size 432x432 with 2 Axes>"
            ],
            "image/png": "[encoded data removed]"
          },
          "metadata": {
            "needs_background": "light"
          }
        }
      ]
    },
    {
      "cell_type": "code",
      "source": [
        "!pip install requests\n",
        "!pip install html5lib\n",
        "!pip install bs4"
      ],
      "metadata": {
        "id": "5gGaJIJcXPWz",
        "colab": {
          "base_uri": "https://localhost:8080/"
        },
        "outputId": "63241d7b-bb7c-4ea2-bdec-3b0a87652d86"
      },
      "execution_count": 12,
      "outputs": [
        {
          "output_type": "stream",
          "name": "stdout",
          "text": [
            "Looking in indexes: https://pypi.org/simple, https://us-python.pkg.dev/colab-wheels/public/simple/\n",
            "Requirement already satisfied: requests in /usr/local/lib/python3.8/dist-packages (2.25.1)\n",
            "Requirement already satisfied: urllib3<1.27,>=1.21.1 in /usr/local/lib/python3.8/dist-packages (from requests) (1.24.3)\n",
            "Requirement already satisfied: chardet<5,>=3.0.2 in /usr/local/lib/python3.8/dist-packages (from requests) (4.0.0)\n",
            "Requirement already satisfied: certifi>=2017.4.17 in /usr/local/lib/python3.8/dist-packages (from requests) (2022.12.7)\n",
            "Requirement already satisfied: idna<3,>=2.5 in /usr/local/lib/python3.8/dist-packages (from requests) (2.10)\n",
            "Looking in indexes: https://pypi.org/simple, https://us-python.pkg.dev/colab-wheels/public/simple/\n",
            "Requirement already satisfied: html5lib in /usr/local/lib/python3.8/dist-packages (1.0.1)\n",
            "Requirement already satisfied: six>=1.9 in /usr/local/lib/python3.8/dist-packages (from html5lib) (1.15.0)\n",
            "Requirement already satisfied: webencodings in /usr/local/lib/python3.8/dist-packages (from html5lib) (0.5.1)\n",
            "Looking in indexes: https://pypi.org/simple, https://us-python.pkg.dev/colab-wheels/public/simple/\n",
            "Requirement already satisfied: bs4 in /usr/local/lib/python3.8/dist-packages (0.0.1)\n",
            "Requirement already satisfied: beautifulsoup4 in /usr/local/lib/python3.8/dist-packages (from bs4) (4.6.3)\n"
          ]
        }
      ]
    },
    {
      "cell_type": "code",
      "source": [
        "import requests\n",
        "from bs4 import BeautifulSoup\n",
        "import csv\n",
        "   \n",
        "URL = \"https://www.hdfilmcehennemi.life/where-the-crawdads-sing-285/\"\n",
        "r = requests.get(URL)\n",
        "\n",
        "soup = BeautifulSoup(r.content, 'html.parser')\n",
        "#print(soup)\n",
        "quotes=[]  # a list to store quotes\n",
        "\n",
        "text=soup.find(\"div\",{\"class\":\"card-body text-white\"})\n",
        "\n",
        "text2=text.find_all(\"p\",{\"class\":\"text-justify comment-text text-break mb-2 text-white-50\"})\n",
        "#print(text2)\n",
        "\n",
        "comment_list=[]\n",
        "for i in text2:\n",
        "  comment_list.append(i.text)\n",
        "# text2_2=text.find_all(\"ul\")\n",
        "print(comment_list[0])"
      ],
      "metadata": {
        "id": "vFlAvv6XXV7X",
        "colab": {
          "base_uri": "https://localhost:8080/"
        },
        "outputId": "a50a8ccd-cc8d-40d4-ec90-40c7880e75da"
      },
      "execution_count": 15,
      "outputs": [
        {
          "output_type": "stream",
          "name": "stdout",
          "text": [
            "Film çok güzeldi tavsiye ederim olumsuz yorumlara aldırmayın duygusal olmayanlar bu filmi pek beğenmez\n"
          ]
        }
      ]
    },
    {
      "cell_type": "code",
      "source": [
        "for i in range(len(comment_list)):\n",
        "\n",
        "  prediction=LogisticRegression.predict([comment_list[i]])\n",
        "  proportion=LogisticRegression.predict_proba([comment_list[i]])\n",
        "\n",
        "  if prediction[0]==1:\n",
        "    print(comment_list[i],\" is: \",proportion[0][1],\" Positive\")\n",
        "  else:\n",
        "    print(comment_list[i],\" is: \",proportion[0][0],\" Negative\")\n"
      ],
      "metadata": {
        "id": "mc61Zujhdb_w",
        "colab": {
          "base_uri": "https://localhost:8080/"
        },
        "outputId": "29874d2a-de2e-4cac-8a57-f96db3496e3c"
      },
      "execution_count": 16,
      "outputs": [
        {
          "output_type": "stream",
          "name": "stdout",
          "text": [
            "Film çok güzeldi tavsiye ederim olumsuz yorumlara aldırmayın duygusal olmayanlar bu filmi pek beğenmez  is:  0.8402523205922611  Positive\n",
            "Kızarmış yeşil domatesler, kusursuz dünya, one Day, yedi yaşam, morrie ile her salı filmlerini de şöyle bir yad ettim bu filmi izlerken. Yaşam denen bu yolda sona gelindiginde aslında önemli olan tek şeyin hayatimiza dokunan insanlarin sevgisinin, dostlugunun olduğunu hissettiriyor. Her ne kadar kötü olaylar yaşansa da , hüzün, ölüm olsa da film bittiğinde aklimda kalan tek şey sevgi...O nedenle bu tarz filmleri seviyorum...  is:  0.6039763355623954  Negative\n",
            "Sabah kuşağını izleyen hanımlara göre bir film.  is:  0.5157982902475975  Positive\n",
            "Ne baş yapıtı ne harika ötesi, normal bi film. Fazla bi olayı yok yani.  is:  0.791313798801816  Positive\n",
            "Yorumlara bakarak izledim. Başyapıt harika ötesi fln. Arkadaşlar başyapıt film Esaretin bedeli, American History X, Leon gelir akla. Film izlettirdi kendini ama başyapıt değil. Yükleyen arkadaşların emegine sağlık. Puanı 6 nin üstünde değil. 6 yeterli.  is:  0.8040847403844003  Positive\n",
            "filmin ismi sıkıcı gelmişti.Hatta kaç ay ertelemiştim,izlememiştim.Hata etmişim. Kesinlikle izlenmeli.Sonunda nasıl ,ne zaman ...gibi sorularla kalakalıyorsunuz ama olsun o da filmin gizemi olsun.  is:  0.5488892560232767  Positive\n",
            "Film çok etkileyiciydi.. Konuyu çok güzel işlemişler. Gereksiz konuşmalardan uzak, \"sanki bir hikayeye kenardan izlemişim izlenimi \" veren bir film seyr ettim.. Sayesinde film seyr ettiyim arkadaşlar ; VAR OLUN..Vatanım azerbaycandan Gzüelim Türkiyeye sevgi ve saygılarla 💙❤💚💫  is:  0.551345350094308  Negative\n",
            "Bu film kesinlikle klasikler arasında yerini alacaktır. Kaliteli süper muhteşem bir film!!  is:  0.9256263964136354  Positive\n",
            "Ben de kitabı var,filminin olduğunu görünce çok şaşırdım açıkçası.  is:  0.6602689626137344  Negative\n",
            "Beğenenlere saygı duyarım ama cidden berbat üzgünüm:(  is:  0.9439617147338858  Negative\n",
            "Nesi berbat? Nesi berbat söyle de bilelim.  is:  0.9471763234457383  Negative\n",
            "Bu filmi beğenenlerin, 1991 yapımı 'Kızarmış Yeşil Domatesler' filmini izlemelerini tavsiye ederim. Bu filmi, 1992 de Bursa da Sinema da izlemiştim. Bu filim, beni o filme götürse de, Kızarmış Yeşil Domatesler bana göre bir baş yapıt. İzlemenizi tavsiye ederim.  is:  0.7333638315695493  Positive\n",
            "sonu ters kose ile biten filmlere bayiliyorum. tesekkurler kaan.  is:  0.5485028564785946  Positive\n",
            "Benmi benzetiyorum yoksa kiz \"algi eke\"ye cokmu benziyor. Filme gelince muhtrsem.  is:  0.5728600488774169  Negative\n",
            "Tek cümle muhteşem bir filmdi gercektende sinemada izlemedigime pisman olduğum son dönemde yapılan baş yapıtlardan  is:  0.5387024068759448  Positive\n",
            "Mükemmel ötesi bir film. Mutlaka izleyin. Dünyanın gerçeklerini yalın, akıcı ve sürükleyici bir biçimde anlatan kaliteli bir film olmuş.  is:  0.9926056535172032  Positive\n",
            "Çok güzeldi, keşke böyle filmler çoğalsa.  is:  0.6078680882057135  Positive\n",
            "Avatar 2'yi ne zaman yüklersiniz hocam  is:  0.7340296000616758  Negative\n",
            "telif geldi hocam  is:  0.6327409788920798  Negative\n",
            "Filme ikinci yorumum. İzleyin güzel film. Notunu hakediyor...  is:  0.7660447609067161  Positive\n",
            "güzeldi  is:  0.8549376331863435  Positive\n",
            "klasikler içinde yer alacak güzel bir film.  is:  0.7860470949651152  Positive\n",
            "Kesinlikle ve kesinlikle izleyin her dakikasından keyf alarak izledim. Film bir ders niteliğinde  is:  0.8385813783156253  Positive\n",
            "Amerikan filmlerinde beğendiğim bir şey varsa oda doğaya verilen değer ve dava sürecindeki adalet anlayışı ayrıca kötü karakterlerin ne olursa olsun gözünün yaşına bakılmaması,ülkemizdeki film e dizilerdeki mafyatik unsurların yüceltilmesi,yada kötü karakterlerin çoğunlukla toplum nezninde yumuşatılarak edirilmeye çalışıması anlaşılır değil,organize suçlar filminde milleti dolandırarak geçinen çetenin film sonunda yaptıklarının yanına kalması,araba nerde para nerde saçmalığının ata sözü gibi dilimize pelesenk oluşu,film çok iyi idi teşekkürler admin..  is:  0.8525446872586571  Negative\n",
            "İyidi hoştu  is:  0.5676490993625911  Negative\n",
            "Kaan abi neden. Macera aksiyin gerilim cata pat atışma falan filmler eklemiyorsun.  is:  0.55056431427024  Positive\n",
            "hocam site neoldu  is:  0.5766607780843102  Negative\n",
            "saldırı oldu hocam düzeltildi  is:  0.6033300406054308  Negative\n",
            "geçmiş olsun  is:  0.6369928822746096  Positive\n",
            "geçmiş olsun diliyorum siteye giremeyince üzüldüm  is:  0.5561708969070145  Negative\n",
            "Yarının savaşı Filminin türkce dublaj çıkmadımı 2 yıl oldu  is:  0.6804849139927156  Negative\n",
            "Bataklık kızı kya yı izledim.Supersiniz beğendim. Zack syner yeni dizi filmi REBEL MOON çıkacakmış sitenizde yer verir misiniz?  is:  0.5650945515885843  Negative\n",
            "evet hocam çıkınca ekleyeceğiz  is:  0.6300077580515724  Negative\n",
            "Gizem veya gerilim filmi değil , Dram filmi . Ama başarılı , Dram severler keyifle izleyebilir. Gerilim veya gizem bekleyenlere göre değildir.  is:  0.790827123101037  Positive\n",
            "Evet dram, gerilim ve gizem var. İzlenir.  is:  0.6296393115450352  Positive\n",
            "iyi insanlar da kötü şeyler yapabilir.. harika bir filmdi...  is:  0.649108854125849  Positive\n",
            "iyi filmm  is:  0.7861359705697717  Positive\n"
          ]
        }
      ]
    }
  ]
}